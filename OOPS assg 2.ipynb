{
 "cells": [
  {
   "cell_type": "code",
   "execution_count": 4,
   "id": "2868f09e-ed2f-48c7-8013-7bf2ced3b95c",
   "metadata": {},
   "outputs": [],
   "source": [
    "#In a class named `Person`, create a constructor that initializes the `name` and `age` attributes. Provide an example of creating an object of this class."
   ]
  },
  {
   "cell_type": "code",
   "execution_count": 5,
   "id": "8df58cd8-7e41-41ca-9d7a-7906e0bc312a",
   "metadata": {},
   "outputs": [],
   "source": [
    "class Person:\n",
    "    \n",
    "    def __init__(self,name,age):\n",
    "        self.name=name\n",
    "        self.age=age\n",
    "        \n",
    "        "
   ]
  },
  {
   "cell_type": "code",
   "execution_count": 8,
   "id": "c4724a48-cd91-4239-85d6-0d4386327749",
   "metadata": {},
   "outputs": [],
   "source": [
    "person1=Person('jack',27)"
   ]
  },
  {
   "cell_type": "code",
   "execution_count": 9,
   "id": "2d802792-7719-4188-900d-e35443c3d85b",
   "metadata": {},
   "outputs": [
    {
     "data": {
      "text/plain": [
       "'jack'"
      ]
     },
     "execution_count": 9,
     "metadata": {},
     "output_type": "execute_result"
    }
   ],
   "source": [
    "person1.name"
   ]
  },
  {
   "cell_type": "code",
   "execution_count": 10,
   "id": "0e5c1484-0565-4def-992b-666a747c0794",
   "metadata": {},
   "outputs": [
    {
     "data": {
      "text/plain": [
       "27"
      ]
     },
     "execution_count": 10,
     "metadata": {},
     "output_type": "execute_result"
    }
   ],
   "source": [
    "person1.age"
   ]
  },
  {
   "cell_type": "code",
   "execution_count": 11,
   "id": "06a0e4f3-d0e3-40e7-90ef-bad0cf6e09e7",
   "metadata": {},
   "outputs": [],
   "source": [
    " "
   ]
  },
  {
   "cell_type": "code",
   "execution_count": 12,
   "id": "9fa8e5e8-1650-43ac-ac08-78fb9419c219",
   "metadata": {},
   "outputs": [],
   "source": [
    "#Create a Python class called `Vehicle` with attributes `color` and `speed`. Then, create a child class called `Car` that inherits from `Vehicle` and adds a `brand` attribute. Provide an example of creating a `Car` object."
   ]
  },
  {
   "cell_type": "code",
   "execution_count": 18,
   "id": "d32231d4-77b0-47c3-ab88-d5ee3da8c239",
   "metadata": {},
   "outputs": [],
   "source": [
    "class Vehicle:\n",
    "    \n",
    "    def __init__(self,colour,speed):\n",
    "        self.colour=colour\n",
    "        self.speed=speed\n",
    "        \n",
    "        \n",
    "class Car(Vehicle):\n",
    "    \n",
    "    def __init__(self,colour,speed,brand):\n",
    "        super().__init__(colour,speed)\n",
    "        self.brand=brand\n",
    "        \n",
    "    \n",
    "    \n",
    "    "
   ]
  },
  {
   "cell_type": "code",
   "execution_count": 30,
   "id": "edc2e40a-4a88-4e68-906b-6480c2274c6d",
   "metadata": {},
   "outputs": [],
   "source": [
    "car1=Car('black',120,'Mahindra')"
   ]
  },
  {
   "cell_type": "code",
   "execution_count": 31,
   "id": "10599da0-5abd-4055-9055-8c3073b716cd",
   "metadata": {},
   "outputs": [
    {
     "data": {
      "text/plain": [
       "'black'"
      ]
     },
     "execution_count": 31,
     "metadata": {},
     "output_type": "execute_result"
    }
   ],
   "source": [
    "car1.colour"
   ]
  },
  {
   "cell_type": "code",
   "execution_count": 32,
   "id": "64080c20-96fd-4fa9-87c6-e3172fd6738f",
   "metadata": {},
   "outputs": [
    {
     "data": {
      "text/plain": [
       "120"
      ]
     },
     "execution_count": 32,
     "metadata": {},
     "output_type": "execute_result"
    }
   ],
   "source": [
    "car1.speed"
   ]
  },
  {
   "cell_type": "code",
   "execution_count": 33,
   "id": "36664082-c69f-44c0-afa4-5f6bbadac000",
   "metadata": {},
   "outputs": [
    {
     "data": {
      "text/plain": [
       "'Mahindra'"
      ]
     },
     "execution_count": 33,
     "metadata": {},
     "output_type": "execute_result"
    }
   ],
   "source": [
    "car1.brand"
   ]
  },
  {
   "cell_type": "code",
   "execution_count": null,
   "id": "fd91ff8f-fd67-41a7-9d3f-d233e0c10c4b",
   "metadata": {},
   "outputs": [],
   "source": []
  },
  {
   "cell_type": "code",
   "execution_count": 34,
   "id": "6a3cb995-d142-4b25-b93d-c367ad19112e",
   "metadata": {},
   "outputs": [],
   "source": [
    "#Create a Python class called `BankAccount` with private attributes for the account balance (`__balance`) and account number('__account_number'). Provide methods of depositing and withdrawing money."
   ]
  },
  {
   "cell_type": "code",
   "execution_count": 35,
   "id": "f8c35006-2eae-408a-a508-4816c71bc4c4",
   "metadata": {},
   "outputs": [],
   "source": [
    "class BankAccount:\n",
    "    \n",
    "    def __init__(self,balance,account_number):\n",
    "        self._balance=balance\n",
    "        self._account_no=account_number\n",
    "        \n",
    "        \n",
    "    def deposit(self,amount):\n",
    "        if amount>0:\n",
    "            self._balance+=amount\n",
    "            print('Amount deposited:',amount)\n",
    "            print('New Account Balance after depositing:',self._balance)\n",
    "            \n",
    "        else:\n",
    "            print('Please enter a valid amount to deposit')\n",
    "            \n",
    "            \n",
    "    def withdraw(self,amount):\n",
    "        if amount>0 and amount<=self._balance:\n",
    "            self._balance-=amount\n",
    "            print(\"Amount withdrawn:\",amount)\n",
    "            print(\"New Account Balance after withdrawn\",self._balance)\n",
    "            \n",
    "        else:\n",
    "            print(\"Invalid withdrawal or Insufficient amount\")        "
   ]
  },
  {
   "cell_type": "code",
   "execution_count": 36,
   "id": "75fdb88b-013c-4e19-bdc2-7a3020cd6d68",
   "metadata": {},
   "outputs": [],
   "source": [
    "account123=BankAccount(100000,\"SBIN7898\")"
   ]
  },
  {
   "cell_type": "code",
   "execution_count": 37,
   "id": "f6fe898c-57e1-4f36-bf3b-53f1eacc3b12",
   "metadata": {},
   "outputs": [
    {
     "name": "stdout",
     "output_type": "stream",
     "text": [
      "Amount deposited: 50000\n",
      "New Account Balance after depositing: 150000\n"
     ]
    }
   ],
   "source": [
    "account123.deposit(50000)"
   ]
  },
  {
   "cell_type": "code",
   "execution_count": 38,
   "id": "9885362f-112e-4832-b843-5c14099fab68",
   "metadata": {},
   "outputs": [
    {
     "name": "stdout",
     "output_type": "stream",
     "text": [
      "Amount withdrawn: 10000\n",
      "New Account Balance after withdrawn 140000\n"
     ]
    }
   ],
   "source": [
    "account123.withdraw(10000)"
   ]
  },
  {
   "cell_type": "code",
   "execution_count": null,
   "id": "ea73ade6-6fde-4c2b-8a20-2dfa7bc8545b",
   "metadata": {},
   "outputs": [],
   "source": []
  },
  {
   "cell_type": "code",
   "execution_count": 43,
   "id": "08ae7947-da8a-49c4-8510-3b3703758ae2",
   "metadata": {},
   "outputs": [],
   "source": [
    "#Create a Python class hierarchy for shapes (e.g., circle, square, triangle) and demonstrate polymorphism through a common method, such as `calculate_area()`."
   ]
  },
  {
   "cell_type": "code",
   "execution_count": 47,
   "id": "12391316-0f8a-48dd-9327-1ffb5dbcdd09",
   "metadata": {},
   "outputs": [],
   "source": [
    "class Shape:\n",
    "    def calculate_area(self):\n",
    "        pass\n",
    "    \n",
    "class Circle(Shape):\n",
    "    def __init__(self,radius):\n",
    "        self.radius=radius\n",
    "        \n",
    "    def calculate_area(self):\n",
    "        area=(22/7)*(self.radius**2)\n",
    "        print('Area of the Circle is:',area)\n",
    "    \n",
    "    \n",
    "class Square(Shape):\n",
    "    def __init__(self,side_length):\n",
    "        self.side_len=side_length\n",
    "        \n",
    "    def calculate_area(self):\n",
    "        area=(self.side_len)*(self.side_len)\n",
    "        print('Area of the Square is:',area)\n",
    "        \n",
    "\n",
    "class Triangle(Shape):\n",
    "    def __init__(self,base,height):\n",
    "        self.base=base\n",
    "        self.height=height\n",
    "        \n",
    "    def calculate_area(self):\n",
    "        area=1/2*(self.base)*(self.height)\n",
    "        print('Area of Triangle is:',area)    "
   ]
  },
  {
   "cell_type": "code",
   "execution_count": 48,
   "id": "b8b17d2d-f28d-4f23-b819-8b326b61293b",
   "metadata": {},
   "outputs": [],
   "source": [
    "cir=Circle(7)\n",
    "sqr=Square(8)\n",
    "tri=Triangle(9,8)"
   ]
  },
  {
   "cell_type": "code",
   "execution_count": 49,
   "id": "1c7fbf5c-eab8-4bb3-b65b-91a7e8fb3d84",
   "metadata": {},
   "outputs": [
    {
     "name": "stdout",
     "output_type": "stream",
     "text": [
      "Area of the Circle is: 154.0\n"
     ]
    }
   ],
   "source": [
    "cir.calculate_area()"
   ]
  },
  {
   "cell_type": "code",
   "execution_count": 50,
   "id": "c3b41ac4-aa4e-4248-8101-d6c7bf70dc2e",
   "metadata": {},
   "outputs": [
    {
     "name": "stdout",
     "output_type": "stream",
     "text": [
      "Area of the Square is: 64\n"
     ]
    }
   ],
   "source": [
    "sqr.calculate_area()"
   ]
  },
  {
   "cell_type": "code",
   "execution_count": 51,
   "id": "eb941062-ed70-4ab4-94f5-ed323bd2ba4f",
   "metadata": {},
   "outputs": [
    {
     "name": "stdout",
     "output_type": "stream",
     "text": [
      "Area of Triangle is: 36.0\n"
     ]
    }
   ],
   "source": [
    "tri.calculate_area()"
   ]
  },
  {
   "cell_type": "code",
   "execution_count": null,
   "id": "16b03eca-526e-4f53-82cf-ac5abbf1c676",
   "metadata": {},
   "outputs": [],
   "source": []
  },
  {
   "cell_type": "code",
   "execution_count": 53,
   "id": "20276fad-499c-43bf-9070-45155baf7915",
   "metadata": {},
   "outputs": [],
   "source": [
    "#Create a Python class for a computer system, demonstrating abstraction by defining common methods(eg: 'power_on','shut_down') in an abstract base class."
   ]
  },
  {
   "cell_type": "code",
   "execution_count": 54,
   "id": "3722f724-9c27-4bc6-8708-bc6a1082b4c6",
   "metadata": {},
   "outputs": [],
   "source": [
    "from abc import ABC, abstractmethod\n",
    "\n",
    "class Computer(ABC):\n",
    "    @abstractmethod\n",
    "    def power_on(self):\n",
    "        pass\n",
    "    @abstractmethod\n",
    "    def shut_down(self):\n",
    "        pass\n",
    "    \n",
    "class Desktop(Computer):\n",
    "    def power_on(self):\n",
    "        print(\"The Desktop is powering on...\")\n",
    "        \n",
    "    def shut_down(self):\n",
    "        print(\"The Desktop is shutting down...\")\n",
    "        \n",
    "        \n",
    "class Laptop(Computer):\n",
    "    def power_on(self):\n",
    "        print(\"The Laptop is powering on...\")\n",
    "        \n",
    "    def shut_down(self):\n",
    "        print(\"The Laptop is shutting down...\")\n",
    "        \n",
    "        "
   ]
  },
  {
   "cell_type": "code",
   "execution_count": 55,
   "id": "d4ef05cd-0766-4c5a-9a0f-ab367a14dd85",
   "metadata": {},
   "outputs": [],
   "source": [
    "system1=Desktop()\n",
    "system2=Laptop()"
   ]
  },
  {
   "cell_type": "code",
   "execution_count": 56,
   "id": "2200c0ee-83b5-4809-8ff5-b88f18196b19",
   "metadata": {},
   "outputs": [
    {
     "name": "stdout",
     "output_type": "stream",
     "text": [
      "The Desktop is powering on...\n"
     ]
    }
   ],
   "source": [
    "system1.power_on()"
   ]
  },
  {
   "cell_type": "code",
   "execution_count": 57,
   "id": "629a2312-19e2-4345-8d5c-0a88c64acf9a",
   "metadata": {},
   "outputs": [
    {
     "name": "stdout",
     "output_type": "stream",
     "text": [
      "The Desktop is shutting down...\n"
     ]
    }
   ],
   "source": [
    "system1.shut_down()"
   ]
  },
  {
   "cell_type": "code",
   "execution_count": 58,
   "id": "38636d83-5a22-4b34-9f90-e0c1e972c68e",
   "metadata": {},
   "outputs": [
    {
     "name": "stdout",
     "output_type": "stream",
     "text": [
      "The Laptop is powering on...\n"
     ]
    }
   ],
   "source": [
    "system2.power_on()"
   ]
  },
  {
   "cell_type": "code",
   "execution_count": 59,
   "id": "77d07561-4649-4331-b6b1-ed9ad58dcf08",
   "metadata": {},
   "outputs": [
    {
     "name": "stdout",
     "output_type": "stream",
     "text": [
      "The Laptop is shutting down...\n"
     ]
    }
   ],
   "source": [
    "system2.shut_down()"
   ]
  },
  {
   "cell_type": "code",
   "execution_count": null,
   "id": "2a316aba-a1eb-403e-a2c9-a573c8d91d41",
   "metadata": {},
   "outputs": [],
   "source": []
  },
  {
   "cell_type": "code",
   "execution_count": 61,
   "id": "817e8d41-d54b-47af-9abe-ce0f26843961",
   "metadata": {},
   "outputs": [],
   "source": [
    "#3. Create a Python class called `Author` with attributes for name and birthdate. Then, create a `Book` class that contains an instance of `Author` as a composition. Provide an example of creating a `Book` object."
   ]
  },
  {
   "cell_type": "code",
   "execution_count": 1,
   "id": "9f6eaf20-3428-474f-a1fc-e12c1b0ce3d2",
   "metadata": {},
   "outputs": [],
   "source": [
    "class Author:\n",
    "    def __init__(self,name,birth_date):\n",
    "        self.name=name\n",
    "        self.date=birth_date\n",
    "        \n",
    "    def author_info(self):\n",
    "        print('name of author:',self.name)\n",
    "        print(\"Author's Birth Date:\",self.date)\n",
    "      \n",
    "        \n",
    "        \n",
    "class Book:\n",
    "    def __init__(self,tittle,author,publication_year,):\n",
    "        self.title=tittle\n",
    "        self.author=author\n",
    "        self.year=publication_year\n",
    "       \n",
    "    def book_info(self):\n",
    "        print(\"Tittle of the book:\",self.title)\n",
    "        print(\"Author of the book:\",self.author.name)\n",
    "        print(\"Book has published on:\",self.year)\n",
    "        \n",
    "       "
   ]
  },
  {
   "cell_type": "code",
   "execution_count": 2,
   "id": "ecaa6954-57a0-453b-8069-803fd423d5a8",
   "metadata": {},
   "outputs": [],
   "source": [
    "abc=Author(\"Kazi Nazrul Islam\",\"24 May 1899\")\n",
    "book1=Book(\"The Flamingo(Chakrabak)\",abc,1929)"
   ]
  },
  {
   "cell_type": "code",
   "execution_count": 3,
   "id": "abe801e4-40fd-436e-a2e8-babcab6e84ac",
   "metadata": {},
   "outputs": [
    {
     "name": "stdout",
     "output_type": "stream",
     "text": [
      "name of author: Kazi Nazrul Islam\n",
      "Author's Birth Date: 24 May 1899\n"
     ]
    }
   ],
   "source": [
    "abc.author_info()"
   ]
  },
  {
   "cell_type": "code",
   "execution_count": 4,
   "id": "4d861e3f-6210-4de9-9613-59b7e05da2fc",
   "metadata": {},
   "outputs": [
    {
     "name": "stdout",
     "output_type": "stream",
     "text": [
      "Tittle of the book: The Flamingo(Chakrabak)\n",
      "Author of the book: Kazi Nazrul Islam\n",
      "Book has published on: 1929\n"
     ]
    }
   ],
   "source": [
    "book1.book_info()"
   ]
  },
  {
   "cell_type": "code",
   "execution_count": null,
   "id": "ea547f20-121d-4b9c-b135-a157772aa831",
   "metadata": {},
   "outputs": [],
   "source": []
  },
  {
   "cell_type": "code",
   "execution_count": null,
   "id": "e6cd777f-eb62-403d-a415-7263f9b96047",
   "metadata": {},
   "outputs": [],
   "source": []
  },
  {
   "cell_type": "code",
   "execution_count": null,
   "id": "49874522-6b29-4709-96ba-7011a4e02fa8",
   "metadata": {},
   "outputs": [],
   "source": []
  },
  {
   "cell_type": "code",
   "execution_count": null,
   "id": "92dfe0a0-d506-4a87-99c8-896c98528f37",
   "metadata": {},
   "outputs": [],
   "source": []
  },
  {
   "cell_type": "code",
   "execution_count": null,
   "id": "c4c39509-a506-4610-8b13-948451a7e471",
   "metadata": {},
   "outputs": [],
   "source": []
  },
  {
   "cell_type": "code",
   "execution_count": null,
   "id": "71a7d795-7d88-4924-a08d-812f1af799a8",
   "metadata": {},
   "outputs": [],
   "source": []
  },
  {
   "cell_type": "code",
   "execution_count": null,
   "id": "602c3d31-2105-4f84-81b6-00890de08d2d",
   "metadata": {},
   "outputs": [],
   "source": []
  },
  {
   "cell_type": "code",
   "execution_count": null,
   "id": "3704c8d2-13ab-4a94-a216-d6b731fae765",
   "metadata": {},
   "outputs": [],
   "source": []
  },
  {
   "cell_type": "code",
   "execution_count": null,
   "id": "843e06f1-1f13-4463-9dd7-cd5ed7d003f7",
   "metadata": {},
   "outputs": [],
   "source": []
  },
  {
   "cell_type": "code",
   "execution_count": null,
   "id": "c5d88b7e-65d7-40a0-82d7-0a2ce7c0dfc3",
   "metadata": {},
   "outputs": [],
   "source": []
  },
  {
   "cell_type": "code",
   "execution_count": null,
   "id": "b73c806f-876e-44cf-aca8-321a4726dbc2",
   "metadata": {},
   "outputs": [],
   "source": []
  },
  {
   "cell_type": "code",
   "execution_count": null,
   "id": "dfa296b9-a3a0-452a-87ae-55601ff1e791",
   "metadata": {},
   "outputs": [],
   "source": []
  },
  {
   "cell_type": "code",
   "execution_count": null,
   "id": "6649582c-50ec-4838-8c11-33f0d08f4844",
   "metadata": {},
   "outputs": [],
   "source": []
  },
  {
   "cell_type": "code",
   "execution_count": null,
   "id": "a9bba9fc-20b5-4253-976f-4b4cead07c55",
   "metadata": {},
   "outputs": [],
   "source": []
  },
  {
   "cell_type": "code",
   "execution_count": null,
   "id": "2d696cf2-07ce-42b4-a22a-bfa4091e58a2",
   "metadata": {},
   "outputs": [],
   "source": []
  },
  {
   "cell_type": "code",
   "execution_count": null,
   "id": "a237324b-a127-4356-aca4-74e9d8233410",
   "metadata": {},
   "outputs": [],
   "source": []
  },
  {
   "cell_type": "code",
   "execution_count": null,
   "id": "23e97fa9-2ab3-4ca7-bd0f-8317fa377c64",
   "metadata": {},
   "outputs": [],
   "source": []
  },
  {
   "cell_type": "code",
   "execution_count": null,
   "id": "235016ab-f587-45e3-9579-04e4978d5141",
   "metadata": {},
   "outputs": [],
   "source": []
  },
  {
   "cell_type": "code",
   "execution_count": null,
   "id": "78bbdd5c-0fb4-4352-9ca7-f0860b73a576",
   "metadata": {},
   "outputs": [],
   "source": []
  },
  {
   "cell_type": "code",
   "execution_count": null,
   "id": "73d11376-1eaf-41e7-8d95-ffb3ff92dd99",
   "metadata": {},
   "outputs": [],
   "source": []
  },
  {
   "cell_type": "code",
   "execution_count": null,
   "id": "c4c8ab9e-ccf3-48d5-9860-32ccb82f8e5b",
   "metadata": {},
   "outputs": [],
   "source": []
  },
  {
   "cell_type": "code",
   "execution_count": null,
   "id": "85a60646-db9d-48a3-ad74-769eca0bb817",
   "metadata": {},
   "outputs": [],
   "source": []
  },
  {
   "cell_type": "code",
   "execution_count": null,
   "id": "f76a25db-c1e6-430a-a217-8ed16ae275e3",
   "metadata": {},
   "outputs": [],
   "source": []
  },
  {
   "cell_type": "code",
   "execution_count": null,
   "id": "deeff21b-23cb-4965-b205-7108b2344f86",
   "metadata": {},
   "outputs": [],
   "source": []
  },
  {
   "cell_type": "code",
   "execution_count": null,
   "id": "69630055-4a63-4779-83c1-73660a74a82a",
   "metadata": {},
   "outputs": [],
   "source": []
  },
  {
   "cell_type": "code",
   "execution_count": null,
   "id": "acdaac78-5214-4048-bc38-fe7292f0fd1d",
   "metadata": {},
   "outputs": [],
   "source": []
  },
  {
   "cell_type": "code",
   "execution_count": null,
   "id": "702d4488-eaf5-4f20-a6ed-27df6994fadd",
   "metadata": {},
   "outputs": [],
   "source": []
  },
  {
   "cell_type": "code",
   "execution_count": null,
   "id": "12bb8087-bba4-4f45-ba7b-a499ee65991d",
   "metadata": {},
   "outputs": [],
   "source": []
  },
  {
   "cell_type": "code",
   "execution_count": null,
   "id": "c2c3e103-1952-4a7f-8889-24c572c98f03",
   "metadata": {},
   "outputs": [],
   "source": []
  },
  {
   "cell_type": "code",
   "execution_count": null,
   "id": "c99e232c-3e31-46c9-a03f-8bb1c29b76ba",
   "metadata": {},
   "outputs": [],
   "source": []
  },
  {
   "cell_type": "code",
   "execution_count": null,
   "id": "fa2b53b0-d025-40d8-96fc-4f788c3b8d11",
   "metadata": {},
   "outputs": [],
   "source": []
  },
  {
   "cell_type": "code",
   "execution_count": null,
   "id": "c449bb8a-0ab4-477e-a173-da80734faec6",
   "metadata": {},
   "outputs": [],
   "source": []
  },
  {
   "cell_type": "code",
   "execution_count": null,
   "id": "89719f86-1b89-4c48-873d-98db8b0a7944",
   "metadata": {},
   "outputs": [],
   "source": []
  },
  {
   "cell_type": "code",
   "execution_count": null,
   "id": "0c41e788-8c71-4a34-bfcb-34786f7a14bb",
   "metadata": {},
   "outputs": [],
   "source": []
  },
  {
   "cell_type": "code",
   "execution_count": null,
   "id": "06597e36-34c0-47b6-b79c-0880c4501a8c",
   "metadata": {},
   "outputs": [],
   "source": []
  },
  {
   "cell_type": "code",
   "execution_count": null,
   "id": "13ecd2d5-1821-4570-acca-e4c1182a30ba",
   "metadata": {},
   "outputs": [],
   "source": []
  },
  {
   "cell_type": "code",
   "execution_count": null,
   "id": "0e55ab2a-4a48-4784-a44a-402dadbfdfeb",
   "metadata": {},
   "outputs": [],
   "source": []
  },
  {
   "cell_type": "code",
   "execution_count": null,
   "id": "a1441ad7-2107-4949-be05-3ddf005930e2",
   "metadata": {},
   "outputs": [],
   "source": []
  },
  {
   "cell_type": "code",
   "execution_count": null,
   "id": "52798c43-3451-4f98-b047-9c2eca0add1c",
   "metadata": {},
   "outputs": [],
   "source": []
  },
  {
   "cell_type": "code",
   "execution_count": null,
   "id": "da5af9a6-d816-435f-8b0a-9142f4bea831",
   "metadata": {},
   "outputs": [],
   "source": []
  },
  {
   "cell_type": "code",
   "execution_count": null,
   "id": "b985c1b9-63d1-4241-97f7-68484a05dbdd",
   "metadata": {},
   "outputs": [],
   "source": []
  },
  {
   "cell_type": "code",
   "execution_count": null,
   "id": "6a49d675-0f7d-45bc-b04e-f2465a2389f4",
   "metadata": {},
   "outputs": [],
   "source": []
  },
  {
   "cell_type": "code",
   "execution_count": null,
   "id": "a992d4bb-0aaf-4072-a558-30bf9cdee535",
   "metadata": {},
   "outputs": [],
   "source": []
  },
  {
   "cell_type": "code",
   "execution_count": null,
   "id": "3a82511f-eeac-4e2f-8a88-1a6f4c65848a",
   "metadata": {},
   "outputs": [],
   "source": []
  },
  {
   "cell_type": "code",
   "execution_count": null,
   "id": "bf2063f2-4fda-4b07-abd1-db6eb2e746b2",
   "metadata": {},
   "outputs": [],
   "source": []
  },
  {
   "cell_type": "code",
   "execution_count": null,
   "id": "f3ceb5dd-e8b0-4f70-90c1-139be7bba4e7",
   "metadata": {},
   "outputs": [],
   "source": []
  },
  {
   "cell_type": "code",
   "execution_count": null,
   "id": "a91203f2-72de-42c8-9f59-1c07a92e8a10",
   "metadata": {},
   "outputs": [],
   "source": []
  },
  {
   "cell_type": "code",
   "execution_count": null,
   "id": "734e2437-7207-4b29-86f6-f3eb205338b0",
   "metadata": {},
   "outputs": [],
   "source": []
  },
  {
   "cell_type": "code",
   "execution_count": null,
   "id": "b2e96415-4c3a-45cc-9983-3a8f3ed2a38f",
   "metadata": {},
   "outputs": [],
   "source": []
  },
  {
   "cell_type": "code",
   "execution_count": null,
   "id": "6f6a73ad-e2d7-4ff9-91bf-daaba862c44f",
   "metadata": {},
   "outputs": [],
   "source": []
  },
  {
   "cell_type": "code",
   "execution_count": null,
   "id": "bca64327-7931-4bb5-af45-3d464250a19f",
   "metadata": {},
   "outputs": [],
   "source": []
  },
  {
   "cell_type": "code",
   "execution_count": null,
   "id": "c14b01b5-f854-4552-859a-db091b778fb3",
   "metadata": {},
   "outputs": [],
   "source": []
  },
  {
   "cell_type": "code",
   "execution_count": null,
   "id": "9e107482-a626-47db-84c1-10059d9047e7",
   "metadata": {},
   "outputs": [],
   "source": []
  },
  {
   "cell_type": "code",
   "execution_count": null,
   "id": "04800efb-adb9-485c-9eae-baed4828ae1c",
   "metadata": {},
   "outputs": [],
   "source": []
  },
  {
   "cell_type": "code",
   "execution_count": null,
   "id": "c686d575-57ab-4594-802d-15e03f241a85",
   "metadata": {},
   "outputs": [],
   "source": []
  },
  {
   "cell_type": "code",
   "execution_count": null,
   "id": "30535163-322b-4654-9dfd-343494b5aada",
   "metadata": {},
   "outputs": [],
   "source": []
  },
  {
   "cell_type": "code",
   "execution_count": null,
   "id": "8c7e9882-dfac-4134-b3fb-72c0d5a4e56f",
   "metadata": {},
   "outputs": [],
   "source": []
  },
  {
   "cell_type": "code",
   "execution_count": null,
   "id": "856d37fd-1d19-435c-8594-89e4b99ec1d0",
   "metadata": {},
   "outputs": [],
   "source": []
  },
  {
   "cell_type": "code",
   "execution_count": null,
   "id": "e3b49671-e697-43ea-be9e-538c3004019f",
   "metadata": {},
   "outputs": [],
   "source": []
  },
  {
   "cell_type": "code",
   "execution_count": null,
   "id": "a916ba90-925c-42ee-b9d7-09b57dc02f39",
   "metadata": {},
   "outputs": [],
   "source": []
  },
  {
   "cell_type": "code",
   "execution_count": null,
   "id": "3b42f773-c4d7-4ea3-9b1a-77005a298129",
   "metadata": {},
   "outputs": [],
   "source": []
  },
  {
   "cell_type": "code",
   "execution_count": null,
   "id": "b2a222a5-c7d9-4def-a56f-3d10cc63579e",
   "metadata": {},
   "outputs": [],
   "source": []
  },
  {
   "cell_type": "code",
   "execution_count": null,
   "id": "8e5f8534-d45f-41ad-8a9d-2472b8a8330d",
   "metadata": {},
   "outputs": [],
   "source": []
  },
  {
   "cell_type": "code",
   "execution_count": null,
   "id": "5b38955c-a57d-43a1-ae0c-9e1fd18f7ffc",
   "metadata": {},
   "outputs": [],
   "source": []
  }
 ],
 "metadata": {
  "kernelspec": {
   "display_name": "Python 3 (ipykernel)",
   "language": "python",
   "name": "python3"
  },
  "language_info": {
   "codemirror_mode": {
    "name": "ipython",
    "version": 3
   },
   "file_extension": ".py",
   "mimetype": "text/x-python",
   "name": "python",
   "nbconvert_exporter": "python",
   "pygments_lexer": "ipython3",
   "version": "3.10.8"
  }
 },
 "nbformat": 4,
 "nbformat_minor": 5
}
